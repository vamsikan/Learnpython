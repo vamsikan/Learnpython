{
 "cells": [
  {
   "cell_type": "code",
   "execution_count": 3,
   "metadata": {},
   "outputs": [
    {
     "name": "stdout",
     "output_type": "stream",
     "text": [
      "hello \n",
      "vamsi\n"
     ]
    }
   ],
   "source": [
    "print(\"hello \\nvamsi\")"
   ]
  },
  {
   "cell_type": "code",
   "execution_count": 6,
   "metadata": {},
   "outputs": [
    {
     "name": "stdout",
     "output_type": "stream",
     "text": [
      "45\n"
     ]
    }
   ],
   "source": [
    "add = 10 + 5 \\\n",
    "+10 + 20\n",
    "\n",
    "print(add)"
   ]
  },
  {
   "cell_type": "code",
   "execution_count": 9,
   "metadata": {},
   "outputs": [
    {
     "name": "stdout",
     "output_type": "stream",
     "text": [
      "area  6\n"
     ]
    }
   ],
   "source": [
    "l=2;b=3\n",
    "print('area',l*b)"
   ]
  },
  {
   "cell_type": "code",
   "execution_count": 10,
   "metadata": {},
   "outputs": [
    {
     "name": "stdout",
     "output_type": "stream",
     "text": [
      "10 is greater than 5\n"
     ]
    }
   ],
   "source": [
    "a=5\n",
    "b=10\n",
    "\n",
    "if a>b:\n",
    "    print(a,'is greater than',b)\n",
    "elif b>a:\n",
    "    print(b,'is greater than',a)\n",
    "else:\n",
    "    print('both are equal')"
   ]
  },
  {
   "cell_type": "code",
   "execution_count": 17,
   "metadata": {},
   "outputs": [
    {
     "name": "stdout",
     "output_type": "stream",
     "text": [
      "bad number\n"
     ]
    }
   ],
   "source": [
    "num1 = 5950\n",
    "if num1>500:\n",
    "    if num1%100 ==0:\n",
    "        print('good number')\n",
    "    else:\n",
    "        print('bad number')\n",
    "else:\n",
    "    print('failures')\n",
    "        "
   ]
  },
  {
   "cell_type": "code",
   "execution_count": 18,
   "metadata": {},
   "outputs": [
    {
     "name": "stdout",
     "output_type": "stream",
     "text": [
      "['Emma', 'Kelly', 'Jessa']\n",
      "{'Emma': 70, 'Kelly': 65, 'Jessa': 75}\n"
     ]
    }
   ],
   "source": [
    "names = ['Emma',\n",
    "         'Kelly',\n",
    "         'Jessa']\n",
    "print(names)\n",
    "\n",
    "# dictionary name as a key and mark as a value\n",
    "# string:int\n",
    "students = {'Emma': 70,\n",
    "            'Kelly': 65,\n",
    "            'Jessa': 75}\n",
    "print(students)"
   ]
  },
  {
   "cell_type": "code",
   "execution_count": 21,
   "metadata": {},
   "outputs": [
    {
     "name": "stdout",
     "output_type": "stream",
     "text": [
      "10 30\n",
      "10\n"
     ]
    },
    {
     "ename": "NameError",
     "evalue": "name 'y' is not defined",
     "output_type": "error",
     "traceback": [
      "\u001b[1;31m---------------------------------------------------------------------------\u001b[0m",
      "\u001b[1;31mNameError\u001b[0m                                 Traceback (most recent call last)",
      "\u001b[1;32m<ipython-input-21-1d63c59fd8e5>\u001b[0m in \u001b[0;36m<module>\u001b[1;34m\u001b[0m\n\u001b[0;32m      8\u001b[0m \u001b[1;31m# try to access it\u001b[0m\u001b[1;33m\u001b[0m\u001b[1;33m\u001b[0m\u001b[1;33m\u001b[0m\u001b[0m\n\u001b[0;32m      9\u001b[0m \u001b[0mprint\u001b[0m\u001b[1;33m(\u001b[0m\u001b[0mx\u001b[0m\u001b[1;33m)\u001b[0m\u001b[1;33m\u001b[0m\u001b[1;33m\u001b[0m\u001b[0m\n\u001b[1;32m---> 10\u001b[1;33m \u001b[0mprint\u001b[0m\u001b[1;33m(\u001b[0m\u001b[0my\u001b[0m\u001b[1;33m)\u001b[0m\u001b[1;33m\u001b[0m\u001b[1;33m\u001b[0m\u001b[0m\n\u001b[0m",
      "\u001b[1;31mNameError\u001b[0m: name 'y' is not defined"
     ]
    }
   ],
   "source": [
    "x = 10\n",
    "y = 30\n",
    "print(x, y)\n",
    "\n",
    "# delete x and y\n",
    "del  y\n",
    "\n",
    "# try to access it\n",
    "print(x)\n",
    "print(y)"
   ]
  },
  {
   "cell_type": "code",
   "execution_count": 22,
   "metadata": {},
   "outputs": [
    {
     "name": "stdout",
     "output_type": "stream",
     "text": [
      "5\n"
     ]
    }
   ],
   "source": [
    "def add(x,y):\n",
    "    return x+y\n",
    "print(add(2,3))"
   ]
  },
  {
   "cell_type": "code",
   "execution_count": 23,
   "metadata": {},
   "outputs": [
    {
     "name": "stdout",
     "output_type": "stream",
     "text": [
      "2023-04-15 08:19:02.587472\n"
     ]
    }
   ],
   "source": [
    "import datetime\n",
    "now=datetime.datetime.now()\n",
    "print(now)"
   ]
  },
  {
   "cell_type": "code",
   "execution_count": 24,
   "metadata": {},
   "outputs": [
    {
     "name": "stdout",
     "output_type": "stream",
     "text": [
      "current number 5\n",
      "current number 10\n"
     ]
    }
   ],
   "source": [
    "#break for\n",
    "numbers=[5,10,15,20]\n",
    "for i in numbers:\n",
    "    if i > 10:\n",
    "        break\n",
    "    print('current number',i)"
   ]
  },
  {
   "cell_type": "code",
   "execution_count": 2,
   "metadata": {},
   "outputs": [
    {
     "name": "stdout",
     "output_type": "stream",
     "text": [
      "numbers 1\n",
      "numbers 2\n",
      "numbers 3\n",
      "numbers 4\n"
     ]
    }
   ],
   "source": [
    " #break while\n",
    "\n",
    "count=1\n",
    "while count < 10:\n",
    "    if count == 5:       \n",
    "        break\n",
    "    print('numbers', count)\n",
    "    count+=1"
   ]
  },
  {
   "cell_type": "code",
   "execution_count": 10,
   "metadata": {},
   "outputs": [
    {
     "name": "stdout",
     "output_type": "stream",
     "text": [
      "1\n",
      "2\n",
      "<class 'int'>\n",
      "<class 'bool'>\n"
     ]
    }
   ],
   "source": [
    "## while loop\n",
    "\n",
    "count =1\n",
    "while count < 3:\n",
    "    print(count)\n",
    "    count+=1\n",
    "print(type(count))\n",
    "print(type(count < 3))"
   ]
  },
  {
   "cell_type": "code",
   "execution_count": 8,
   "metadata": {},
   "outputs": [
    {
     "name": "stdout",
     "output_type": "stream",
     "text": [
      "total iter 3\n"
     ]
    }
   ],
   "source": [
    "count =0\n",
    "number =180\n",
    "while not number <= 10:\n",
    "    number = number/3\n",
    "    count+=1\n",
    "print('total iter', count)\n",
    "        \n"
   ]
  },
  {
   "cell_type": "code",
   "execution_count": 11,
   "metadata": {},
   "outputs": [
    {
     "name": "stdout",
     "output_type": "stream",
     "text": [
      "Enter any number between 100 and 500 600\n",
      "Incorrect number, Please enter correct number:\n",
      "Enter a Number between 100 and 500 99\n",
      "Incorrect number, Please enter correct number:\n",
      "Enter a Number between 100 and 500 400\n",
      "Given Number is correct 400\n"
     ]
    }
   ],
   "source": [
    "number = int(input('Enter any number between 100 and 500 '))\n",
    "# number greater than 100 and less than 500\n",
    "while not number > 100 or not number < 500:\n",
    "    print('Incorrect number, Please enter correct number:')\n",
    "    number = int(input('Enter a Number between 100 and 500 '))\n",
    "else:\n",
    "    print(\"Given Number is correct\", number)"
   ]
  },
  {
   "cell_type": "code",
   "execution_count": 13,
   "metadata": {},
   "outputs": [
    {
     "name": "stdout",
     "output_type": "stream",
     "text": [
      "enter a number10\n",
      "10 is a even number bro\n",
      "9 is a odd number babe\n",
      "8 is a even number bro\n",
      "7 is a odd number babe\n",
      "6 is a even number bro\n",
      "5 is a odd number babe\n",
      "4 is a even number bro\n",
      "3 is a odd number babe\n",
      "2 is a even number bro\n",
      "1 is a odd number babe\n",
      "0 is a even number bro\n"
     ]
    }
   ],
   "source": [
    "n = int(input('enter a number'))\n",
    "while n>=0:\n",
    "    if n%2 == 0:\n",
    "        print(n, 'is a even number bro')\n",
    "    else:\n",
    "        print(n, 'is a odd number babe')\n",
    "    n=n-1"
   ]
  },
  {
   "cell_type": "code",
   "execution_count": 16,
   "metadata": {},
   "outputs": [],
   "source": [
    "name = '1Je2saa29Roy'\n",
    "size = len(name)\n",
    "i = 0\n",
    "# iterate loop till the last character\n",
    "while i < size:\n",
    "    # break loop if current character is number\n",
    "    if name[i].isdecimal():\n",
    "        break;\n",
    "    # print current character\n",
    "    print(name[i], end=' ')\n",
    "    i = i + 1"
   ]
  },
  {
   "cell_type": "code",
   "execution_count": 23,
   "metadata": {},
   "outputs": [
    {
     "ename": "SyntaxError",
     "evalue": "invalid syntax (<ipython-input-23-f56663603e6e>, line 4)",
     "output_type": "error",
     "traceback": [
      "\u001b[1;36m  File \u001b[1;32m\"<ipython-input-23-f56663603e6e>\"\u001b[1;36m, line \u001b[1;32m4\u001b[0m\n\u001b[1;33m    for i in range(0,size)\u001b[0m\n\u001b[1;37m                          ^\u001b[0m\n\u001b[1;31mSyntaxError\u001b[0m\u001b[1;31m:\u001b[0m invalid syntax\n"
     ]
    }
   ],
   "source": [
    "name = 'Jesaa29Roy'\n",
    "\n",
    "size = len(name)\n",
    "for i in range(0,size)\n",
    "print(i)\n",
    "print(size)\n",
    "i = -1\n",
    "# iterate loop till the last character\n",
    "while i < size-1:\n",
    "    i = i + 1\n",
    "    # skip while loop body if current character is not alphabet\n",
    "    if  name[i].isdecimal():\n",
    "        continue\n",
    "    # print current character\n",
    "    print(name[i], end=' ')"
   ]
  },
  {
   "cell_type": "markdown",
   "metadata": {},
   "source": [
    "# comments"
   ]
  },
  {
   "cell_type": "code",
   "execution_count": 25,
   "metadata": {},
   "outputs": [
    {
     "name": "stdout",
     "output_type": "stream",
     "text": [
      "welcome bro\n"
     ]
    }
   ],
   "source": [
    "# this is\n",
    "# a comment\n",
    "# to read\n",
    "print('welcome bro')"
   ]
  },
  {
   "cell_type": "code",
   "execution_count": 26,
   "metadata": {},
   "outputs": [
    {
     "name": "stdout",
     "output_type": "stream",
     "text": [
      "Hello Jessa\n"
     ]
    }
   ],
   "source": [
    "# Returns welcome message for a customer by customer name and location\n",
    "# param name - Name of the customer\n",
    "# param region - location\n",
    "# return - Welcome message\n",
    "\n",
    "def greet(name, region):\n",
    "    message = get_message(region)\n",
    "    return message + \" \" + name\n",
    "\n",
    "\n",
    "# Returns welcome message by location\n",
    "# param region - location\n",
    "def get_message(region):\n",
    "    if (region == 'USA'):\n",
    "        return 'Hello'\n",
    "    elif (region == 'India'):\n",
    "        return 'Namaste'\n",
    "\n",
    "print(greet('Jessa', 'USA'))"
   ]
  },
  {
   "cell_type": "code",
   "execution_count": 27,
   "metadata": {},
   "outputs": [
    {
     "name": "stdout",
     "output_type": "stream",
     "text": [
      "['False', 'None', 'True', 'and', 'as', 'assert', 'async', 'await', 'break', 'class', 'continue', 'def', 'del', 'elif', 'else', 'except', 'finally', 'for', 'from', 'global', 'if', 'import', 'in', 'is', 'lambda', 'nonlocal', 'not', 'or', 'pass', 'raise', 'return', 'try', 'while', 'with', 'yield']\n"
     ]
    }
   ],
   "source": [
    "import keyword\n",
    "print(keyword.kwlist)"
   ]
  },
  {
   "cell_type": "code",
   "execution_count": 28,
   "metadata": {},
   "outputs": [
    {
     "name": "stdout",
     "output_type": "stream",
     "text": [
      "\n",
      "Here is a list of the Python keywords.  Enter any keyword to get more help.\n",
      "\n",
      "False               class               from                or\n",
      "None                continue            global              pass\n",
      "True                def                 if                  raise\n",
      "and                 del                 import              return\n",
      "as                  elif                in                  try\n",
      "assert              else                is                  while\n",
      "async               except              lambda              with\n",
      "await               finally             nonlocal            yield\n",
      "break               for                 not                 \n",
      "\n"
     ]
    }
   ],
   "source": [
    "help(\"keywords\")"
   ]
  },
  {
   "cell_type": "code",
   "execution_count": 29,
   "metadata": {
    "scrolled": true
   },
   "outputs": [
    {
     "name": "stdout",
     "output_type": "stream",
     "text": [
      "The \"for\" statement\n",
      "*******************\n",
      "\n",
      "The \"for\" statement is used to iterate over the elements of a sequence\n",
      "(such as a string, tuple or list) or other iterable object:\n",
      "\n",
      "   for_stmt ::= \"for\" target_list \"in\" expression_list \":\" suite\n",
      "                [\"else\" \":\" suite]\n",
      "\n",
      "The expression list is evaluated once; it should yield an iterable\n",
      "object.  An iterator is created for the result of the\n",
      "\"expression_list\".  The suite is then executed once for each item\n",
      "provided by the iterator, in the order returned by the iterator.  Each\n",
      "item in turn is assigned to the target list using the standard rules\n",
      "for assignments (see Assignment statements), and then the suite is\n",
      "executed.  When the items are exhausted (which is immediately when the\n",
      "sequence is empty or an iterator raises a \"StopIteration\" exception),\n",
      "the suite in the \"else\" clause, if present, is executed, and the loop\n",
      "terminates.\n",
      "\n",
      "A \"break\" statement executed in the first suite terminates the loop\n",
      "without executing the \"else\" clause’s suite.  A \"continue\" statement\n",
      "executed in the first suite skips the rest of the suite and continues\n",
      "with the next item, or with the \"else\" clause if there is no next\n",
      "item.\n",
      "\n",
      "The for-loop makes assignments to the variables in the target list.\n",
      "This overwrites all previous assignments to those variables including\n",
      "those made in the suite of the for-loop:\n",
      "\n",
      "   for i in range(10):\n",
      "       print(i)\n",
      "       i = 5             # this will not affect the for-loop\n",
      "                         # because i will be overwritten with the next\n",
      "                         # index in the range\n",
      "\n",
      "Names in the target list are not deleted when the loop is finished,\n",
      "but if the sequence is empty, they will not have been assigned to at\n",
      "all by the loop.  Hint: the built-in function \"range()\" returns an\n",
      "iterator of integers suitable to emulate the effect of Pascal’s \"for i\n",
      ":= a to b do\"; e.g., \"list(range(3))\" returns the list \"[0, 1, 2]\".\n",
      "\n",
      "Note: There is a subtlety when the sequence is being modified by the\n",
      "  loop (this can only occur for mutable sequences, e.g. lists).  An\n",
      "  internal counter is used to keep track of which item is used next,\n",
      "  and this is incremented on each iteration.  When this counter has\n",
      "  reached the length of the sequence the loop terminates.  This means\n",
      "  that if the suite deletes the current (or a previous) item from the\n",
      "  sequence, the next item will be skipped (since it gets the index of\n",
      "  the current item which has already been treated).  Likewise, if the\n",
      "  suite inserts an item in the sequence before the current item, the\n",
      "  current item will be treated again the next time through the loop.\n",
      "  This can lead to nasty bugs that can be avoided by making a\n",
      "  temporary copy using a slice of the whole sequence, e.g.,\n",
      "\n",
      "     for x in a[:]:\n",
      "         if x < 0: a.remove(x)\n",
      "\n",
      "Related help topics: break, continue, while\n",
      "\n",
      "None\n"
     ]
    }
   ],
   "source": [
    "print(help(\"for\"))"
   ]
  },
  {
   "cell_type": "code",
   "execution_count": 30,
   "metadata": {},
   "outputs": [
    {
     "name": "stdout",
     "output_type": "stream",
     "text": [
      "True\n",
      "False\n"
     ]
    }
   ],
   "source": [
    "import keyword\n",
    "\n",
    "print(keyword.iskeyword('if'))\n",
    "print(keyword.iskeyword('range'))"
   ]
  },
  {
   "cell_type": "code",
   "execution_count": 33,
   "metadata": {},
   "outputs": [
    {
     "name": "stdout",
     "output_type": "stream",
     "text": [
      "Jessa 19 not known\n"
     ]
    }
   ],
   "source": [
    "# create class\n",
    "class Student:\n",
    "    sex = 'not known'\n",
    "    def __init__(self, name, age):\n",
    "        self.name = name\n",
    "        self.age = age\n",
    "\n",
    "    def show(self):\n",
    "        print(self.name, self.age,self.sex)\n",
    "\n",
    "\n",
    "# create object\n",
    "s = Student('Jessa', 19)\n",
    "# call method\n",
    "s.show()"
   ]
  },
  {
   "cell_type": "code",
   "execution_count": 34,
   "metadata": {},
   "outputs": [
    {
     "name": "stdout",
     "output_type": "stream",
     "text": [
      "False\n"
     ]
    }
   ],
   "source": [
    "print(bool(0))"
   ]
  },
  {
   "cell_type": "code",
   "execution_count": 37,
   "metadata": {},
   "outputs": [
    {
     "name": "stdout",
     "output_type": "stream",
     "text": [
      "<class 'range'>\n"
     ]
    }
   ],
   "source": [
    "print(type(range(5)))"
   ]
  },
  {
   "cell_type": "code",
   "execution_count": 38,
   "metadata": {},
   "outputs": [
    {
     "name": "stdout",
     "output_type": "stream",
     "text": [
      "10\n",
      "<class 'int'>\n",
      "55\n",
      "Now I'm a string\n",
      "<class 'str'>\n",
      "35.69\n",
      "<class 'float'>\n"
     ]
    }
   ],
   "source": [
    "var = 10\n",
    "print(var)  # 10\n",
    "# print its type\n",
    "print(type(var))  # <class 'int'>\n",
    "\n",
    "# assign different integer value to var\n",
    "var = 55\n",
    "print(var)  # 55\n",
    "\n",
    "# change var to string\n",
    "var = \"Now I'm a string\"\n",
    "print(var)  # Now I'm a string\n",
    "# print its type\n",
    "print(type(var))  # <class 'str'>\n",
    "\n",
    "# change var to float\n",
    "var = 35.69\n",
    "print(var)  # 35.69\n",
    "# print its type\n",
    "print(type(var))  # <class 'float'>"
   ]
  },
  {
   "cell_type": "code",
   "execution_count": 39,
   "metadata": {},
   "outputs": [
    {
     "name": "stdout",
     "output_type": "stream",
     "text": [
      "PYnative\n",
      "P\n",
      "nat\n",
      "8\n",
      "PYnativeTEST\n"
     ]
    }
   ],
   "source": [
    "# create a variable of type string\n",
    "str = 'PYnative'\n",
    "# prints complete string\n",
    "print(str)  # PYnative\n",
    "\n",
    "# prints first character of the string\n",
    "print(str[0])  # P\n",
    "\n",
    "# prints characters starting from 2nd to 5th range 0 to n-1 so n to t\n",
    "print(str[2:5])  # nat\n",
    "\n",
    "# length of string\n",
    "print(len(str))  # 8\n",
    "\n",
    "# concatenate string\n",
    "print(str + \"TEST\")  # PYnativeTEST"
   ]
  },
  {
   "cell_type": "code",
   "execution_count": 40,
   "metadata": {},
   "outputs": [
    {
     "name": "stdout",
     "output_type": "stream",
     "text": [
      "['Jessa', 10, 20, 'Kelly', 50, 10.5]\n",
      "Jessa\n",
      "10.5\n",
      "[10, 20]\n",
      "Emma\n",
      "['Emma', 10, 20, 'Kelly', 50, 10.5]\n",
      "['Emma', 10, 20, 'Kelly', 50, 10.5, 100]\n"
     ]
    }
   ],
   "source": [
    "# create list\n",
    "my_list = ['Jessa', 10, 20, 'Kelly', 50, 10.5]\n",
    "# print entire list\n",
    "print(my_list)  # ['Jessa', 10, 20, 'Kelly', 50, 10.5]\n",
    "\n",
    "# Accessing 1st element of a list\n",
    "print(my_list[0])  # 'Jessa'\n",
    "\n",
    "# Accessing  last element of a\n",
    "print(my_list[-1])  # 10.5\n",
    "\n",
    "# access chunks of list data\n",
    "print(my_list[1:3])  # [10, 20]\n",
    "\n",
    "# Modifying first element of a list\n",
    "my_list[0] = 'Emma'\n",
    "print(my_list[0])  # 'Emma'\n",
    "print(my_list)\n",
    "\n",
    "# add one more elements to list\n",
    "my_list.append(100)\n",
    "print(my_list)  # ['Emma', 10, 20, 'Kelly', 50, 10.5, 100]"
   ]
  },
  {
   "cell_type": "code",
   "execution_count": 41,
   "metadata": {},
   "outputs": [
    {
     "name": "stdout",
     "output_type": "stream",
     "text": [
      "<class 'int'>\n",
      "<class 'float'>\n",
      "<class 'str'>\n",
      "<class 'list'>\n",
      "<class 'set'>\n",
      "<class 'tuple'>\n",
      "<class 'dict'>\n"
     ]
    }
   ],
   "source": [
    "a = 100\n",
    "print(type(a))  # class 'int'\n",
    "\n",
    "b = 100.568\n",
    "print(type(b))  # class 'float'\n",
    "\n",
    "str1 = \"PYnative\"\n",
    "print(type(str1))  # class 'str'\n",
    "\n",
    "my_list = [10, 20, 20.5, 100]\n",
    "print(type(my_list))  # class 'list'\n",
    "\n",
    "my_set = {'Emma', 'Jessa', 'Kelly'}\n",
    "print(type(my_set))  # class 'set'\n",
    "\n",
    "my_tuple = (5, 10, 15, 20, 25)\n",
    "print(type(my_tuple))  # class 'tuple'\n",
    "\n",
    "my_dict = {1: 'William', 2: 'John'}\n",
    "print(type(my_dict))  # class 'dict'"
   ]
  },
  {
   "cell_type": "code",
   "execution_count": 42,
   "metadata": {},
   "outputs": [
    {
     "name": "stdout",
     "output_type": "stream",
     "text": [
      "list\n"
     ]
    }
   ],
   "source": [
    "my_list =[10,20,20.5,'Python',100]\n",
    "# It will print only datatype of variable\n",
    "print(type(my_list).__name__) # list"
   ]
  },
  {
   "cell_type": "code",
   "execution_count": 44,
   "metadata": {},
   "outputs": [
    {
     "name": "stdout",
     "output_type": "stream",
     "text": [
      "2902041487856\n",
      "2902041487472\n"
     ]
    }
   ],
   "source": [
    "n = 300\n",
    "m = n\n",
    "n+=1\n",
    "print(id(n)) # same memory address\n",
    "print(id(m)) # same memory address"
   ]
  },
  {
   "cell_type": "code",
   "execution_count": 64,
   "metadata": {},
   "outputs": [
    {
     "name": "stdout",
     "output_type": "stream",
     "text": [
      "140721007571840\n",
      "140721007568960\n",
      "113\n",
      "179\n",
      "140721007569280\n",
      "140721007569280\n",
      "140721007569280\n",
      "423 423 423\n",
      "140721007571840\n"
     ]
    }
   ],
   "source": [
    "import sys\n",
    "a2 = 100\n",
    "b1 = 10\n",
    "print(id(a2))\n",
    "print(id(b1))\n",
    "print(sys.getrefcount(a2))\n",
    "print(sys.getrefcount(b1))\n",
    "c1 = 20\n",
    "d1 = 20\n",
    "e1 = 20\n",
    "print(id(c1))\n",
    "print(id(d1))\n",
    "print(id(e1))\n",
    "print(sys.getrefcount(c1),sys.getrefcount(d1),sys.getrefcount(e1))\n",
    "\n",
    "a1 =100\n",
    "print(id(a1))"
   ]
  },
  {
   "cell_type": "code",
   "execution_count": 69,
   "metadata": {},
   "outputs": [
    {
     "name": "stdout",
     "output_type": "stream",
     "text": [
      "True\n"
     ]
    }
   ],
   "source": [
    "d = {1:'J', 2:'E'}\n",
    "result = isinstance(d, dict)\n",
    "print (result)"
   ]
  },
  {
   "cell_type": "code",
   "execution_count": 72,
   "metadata": {},
   "outputs": [
    {
     "name": "stdout",
     "output_type": "stream",
     "text": [
      "['Jessa', 'Kelly', 20, 35.75]\n",
      "<class 'list'>\n",
      "Jessa\n",
      "['Kelly', 20, 35.75]\n",
      "Emma\n",
      "['Jessa', 'Kelly', 20, 35.75]\n",
      "list\n"
     ]
    }
   ],
   "source": [
    "my_list = [\"Jessa\", \"Kelly\", 20, 35.75]\n",
    "# display list\n",
    "print(my_list)  # ['Jessa', 'Kelly', 20, 35.75]\n",
    "print(type(my_list))  # class 'list'\n",
    "\n",
    "# Accessing first element of list\n",
    "print(my_list[0])  # 'Jessa'\n",
    "\n",
    "# slicing list elements\n",
    "print(my_list[1:5])  # ['Kelly', 20, 35.75]\n",
    "\n",
    "# modify 2nd element of a list\n",
    "my_list[1] = \"Emma\"\n",
    "print(my_list[1])  # 'Emma'\n",
    "\n",
    "# create list using a list class\n",
    "my_list2 = list([\"Jessa\", \"Kelly\", 20, 35.75])\n",
    "print(my_list2)  # ['Jessa', 'Kelly', 20, 35.75]\n",
    "print(type(my_list2).__name__)"
   ]
  },
  {
   "cell_type": "code",
   "execution_count": 75,
   "metadata": {},
   "outputs": [
    {
     "name": "stdout",
     "output_type": "stream",
     "text": [
      "set\n",
      "frozenset\n"
     ]
    }
   ],
   "source": [
    "my_set = {11, 44, 75, 89, 56}\n",
    "print(type(my_set).__name__)  # class 'set'\n",
    "\n",
    "# creating frozenset\n",
    "f_set = frozenset(my_set)\n",
    "print(type(f_set).__name__)  # class 'frozenset'"
   ]
  },
  {
   "cell_type": "markdown",
   "metadata": {},
   "source": [
    "# byte and byte array support buffer protocol to access memory view\n",
    "# set is mutable\n",
    "#frozen set is immutable\n",
    "# byte immutable\n",
    "#byte array mutable"
   ]
  },
  {
   "cell_type": "code",
   "execution_count": 78,
   "metadata": {},
   "outputs": [
    {
     "name": "stdout",
     "output_type": "stream",
     "text": [
      "bytearray(b'\\t\\x11\\x0bN')\n",
      "<class 'bytearray'>\n",
      "99\n",
      "9*99*11*78*"
     ]
    }
   ],
   "source": [
    "# create a bytearray\n",
    "list1 = [9, 17, 11, 78]\n",
    "b_array = bytearray(list1)\n",
    "print(b_array)\n",
    "print(type(b_array))  # class 'bytearray'\n",
    "\n",
    "# modifying bytearray\n",
    "b_array[1] = 99\n",
    "print(b_array[1])  # 99\n",
    "\n",
    "# iterate bytearray\n",
    "for i in b_array:\n",
    "    print(i, end=\"*\")  # 9 99 11 78"
   ]
  },
  {
   "cell_type": "code",
   "execution_count": 79,
   "metadata": {},
   "outputs": [
    {
     "name": "stdout",
     "output_type": "stream",
     "text": [
      "80 89 110 97 116 105 118 101 "
     ]
    }
   ],
   "source": [
    "byte_array = b'PYnative'      # creating bytes array object\n",
    "byte_array_view = memoryview(byte_array)  # creating memory view for bytes array objects\n",
    "container = tuple(byte_array_view)   # Storing it in container of iterating\n",
    "for char in container:\n",
    "    print(char, end=\" \")"
   ]
  },
  {
   "cell_type": "raw",
   "metadata": {},
   "source": [
    "flow control\n",
    "Conditional - if, if-else, if-elif-else, nested if-else\n",
    "iterative - for, while\n",
    "Transfer - break, pass, continue\n"
   ]
  },
  {
   "cell_type": "code",
   "execution_count": 84,
   "metadata": {},
   "outputs": [
    {
     "name": "stdout",
     "output_type": "stream",
     "text": [
      "enter your choice:5\n",
      "Wrong entry\n"
     ]
    }
   ],
   "source": [
    "choice = int(input(\"enter your choice:\"))\n",
    "def user_check(choice):\n",
    "    if choice == 1:\n",
    "        print(\"Admin\")\n",
    "    elif choice == 2:\n",
    "        print(\"Editor\")\n",
    "    elif choice == 3:\n",
    "        print(\"Guest\")\n",
    "    else:\n",
    "        print(\"Wrong entry\")\n",
    "\n",
    "user_check(choice)"
   ]
  },
  {
   "cell_type": "code",
   "execution_count": 90,
   "metadata": {},
   "outputs": [
    {
     "name": "stdout",
     "output_type": "stream",
     "text": [
      "enter number:6\n",
      "42\n"
     ]
    }
   ],
   "source": [
    "#sum of first n even number\n",
    "\n",
    "n=int(input(\"enter number:\"))\n",
    "sum = 0\n",
    "i=1\n",
    "while i < n+1:\n",
    "    sum += 2*i\n",
    "    i+=1\n",
    "print(sum)"
   ]
  },
  {
   "cell_type": "code",
   "execution_count": 6,
   "metadata": {},
   "outputs": [
    {
     "name": "stdout",
     "output_type": "stream",
     "text": [
      "\n",
      "* \n",
      "* * \n",
      "* * * \n",
      "* * * * \n"
     ]
    }
   ],
   "source": [
    "# print half pyramid with *'s'\n",
    "i = 0\n",
    "while(i < 5):\n",
    "    j=0\n",
    "    while(j < i):\n",
    "        print('*', end=\" \")\n",
    "        j=j+1\n",
    "    print('')\n",
    "    i=i+1\n",
    "        "
   ]
  },
  {
   "cell_type": "code",
   "execution_count": 7,
   "metadata": {},
   "outputs": [
    {
     "name": "stdout",
     "output_type": "stream",
     "text": [
      "\n",
      "* \n",
      "* * \n",
      "* * * \n",
      "* * * * \n"
     ]
    }
   ],
   "source": [
    "i=0\n",
    "while(i<5):\n",
    "    for j in range(0,i):\n",
    "        print('*', end=\" \")\n",
    "    print('')\n",
    "    i=i+1"
   ]
  },
  {
   "cell_type": "code",
   "execution_count": 29,
   "metadata": {},
   "outputs": [
    {
     "name": "stdout",
     "output_type": "stream",
     "text": [
      "\n",
      "* \n",
      "* * \n",
      "* * * \n",
      "* * * * \n"
     ]
    }
   ],
   "source": [
    "for i in range(5):\n",
    "    for j in range(i):\n",
    "        print('*', end=\" \")\n",
    "    print('')"
   ]
  },
  {
   "cell_type": "code",
   "execution_count": 14,
   "metadata": {},
   "outputs": [
    {
     "name": "stdout",
     "output_type": "stream",
     "text": [
      "\n",
      "* \n",
      "* * \n",
      "* * * \n",
      "* * * * \n"
     ]
    }
   ],
   "source": [
    "for i in range(0,5):\n",
    "    j=0\n",
    "    while(j<i):\n",
    "        print('*', end=\" \")\n",
    "        j=j+1\n",
    "    print('')"
   ]
  },
  {
   "cell_type": "raw",
   "metadata": {},
   "source": [
    "****\n",
    "***\n",
    "**\n",
    "*\n",
    "\n"
   ]
  },
  {
   "cell_type": "code",
   "execution_count": 22,
   "metadata": {},
   "outputs": [
    {
     "name": "stdout",
     "output_type": "stream",
     "text": [
      "* * \n",
      "* \n",
      "\n",
      "\n",
      "\n"
     ]
    }
   ],
   "source": [
    "for i in range(0,5):\n",
    "    j=2\n",
    "    while(j>i):\n",
    "        print('*', end=\" \")\n",
    "        j=j-1\n",
    "    print('')\n",
    "    \n",
    "        "
   ]
  },
  {
   "cell_type": "code",
   "execution_count": 45,
   "metadata": {},
   "outputs": [
    {
     "name": "stdout",
     "output_type": "stream",
     "text": [
      "Enter the number of rows5\n",
      "\n",
      "1 \n",
      "2 2 \n",
      "3 3 3 \n",
      "4 4 4 4 \n"
     ]
    }
   ],
   "source": [
    "#rows = 6\n",
    "# if you want user to enter a number, uncomment the below line\n",
    "rows = int(input('Enter the number of rows'))\n",
    "# outer loop\n",
    "for i in range(rows):\n",
    "    # nested loop\n",
    "    for j in range(0,i):\n",
    "        # display number\n",
    "        print(i, end=' ')\n",
    "    # new line after each row\n",
    "    print('')\n",
    "    #print(\"\\n\")"
   ]
  },
  {
   "cell_type": "code",
   "execution_count": 50,
   "metadata": {},
   "outputs": [
    {
     "name": "stdout",
     "output_type": "stream",
     "text": [
      "enter number of rows: 5\n",
      "1  \n",
      "1 2  \n",
      "1 2 3  \n",
      "1 2 3 4  \n",
      "1 2 3 4 5  \n"
     ]
    }
   ],
   "source": [
    "rows = int(input(\"enter number of rows: \"))\n",
    "for i in range(1,rows+1):\n",
    "    for j in range(1,i+1):\n",
    "        print(j, end=' ')\n",
    "    print(' ')\n",
    "    \n",
    "    "
   ]
  },
  {
   "cell_type": "code",
   "execution_count": 2,
   "metadata": {},
   "outputs": [
    {
     "name": "stdout",
     "output_type": "stream",
     "text": [
      "enter number of rows: 5\n",
      "1 \n",
      "1 2 \n",
      "1 2 3 \n",
      "1 2 3 4 \n",
      "1 2 3 4 5 \n"
     ]
    }
   ],
   "source": [
    "rows = int(input(\"enter number of rows: \"))\n",
    "i=1\n",
    "while(i < rows+1):\n",
    "    j=1\n",
    "    while(j < i+1):\n",
    "        print(j, end=' ')\n",
    "        j=j+1\n",
    "    i=i+1\n",
    "    print('')\n"
   ]
  },
  {
   "cell_type": "code",
   "execution_count": 6,
   "metadata": {},
   "outputs": [
    {
     "name": "stdout",
     "output_type": "stream",
     "text": [
      "enter number of rows: 5\n",
      "1 1 1 1 1 \n",
      "2 2 2 2 \n",
      "3 3 3 \n",
      "4 4 \n",
      "5 \n"
     ]
    }
   ],
   "source": [
    "#inverted pyramid pattern of numbers\n",
    "rows = int(input(\"enter number of rows: \"))\n",
    "for i in range(1,rows+1):\n",
    "    j=rows\n",
    "    while(j+1 > i):\n",
    "        print(i, end=' ')\n",
    "        j=j-1\n",
    "    print('')"
   ]
  },
  {
   "cell_type": "code",
   "execution_count": 7,
   "metadata": {},
   "outputs": [
    {
     "name": "stdout",
     "output_type": "stream",
     "text": [
      "1 1 1 1 1 \n",
      "2 2 2 2 \n",
      "3 3 3 \n",
      "4 4 \n",
      "5 \n"
     ]
    }
   ],
   "source": [
    "rows=5\n",
    "b=0\n",
    "#reverse for loop\n",
    "for i in range(rows,0,-1):\n",
    "    b=b+1\n",
    "    for j in range(1, i+1):\n",
    "        print(b, end=' ')\n",
    "    print('')"
   ]
  },
  {
   "cell_type": "code",
   "execution_count": 14,
   "metadata": {},
   "outputs": [
    {
     "name": "stdout",
     "output_type": "stream",
     "text": [
      "enter number of rows: 6\n",
      "6 6 6 6 6 6 \n",
      "6 6 6 6 6 \n",
      "6 6 6 6 \n",
      "6 6 6 \n",
      "6 6 \n",
      "6 \n"
     ]
    }
   ],
   "source": [
    "#Inverted Pyramid pattern with the same digit\n",
    "rows = int(input(\"enter number of rows: \"))\n",
    "num=rows\n",
    "for i in range(rows,0,-1):\n",
    "    j=0\n",
    "    while(i>j):\n",
    "        print(num, end=' ')\n",
    "        j=j+1\n",
    "    print('')\n",
    "    "
   ]
  },
  {
   "cell_type": "code",
   "execution_count": 19,
   "metadata": {},
   "outputs": [
    {
     "name": "stdout",
     "output_type": "stream",
     "text": [
      "enter number of rows: 5\n",
      "5 5 5 5 5 \n",
      "5 5 5 5 \n",
      "5 5 5 \n",
      "5 5 \n",
      "5 \n"
     ]
    }
   ],
   "source": [
    "#Inverted Pyramid pattern with the same digit - other way\n",
    "rows = int(input(\"enter number of rows: \"))\n",
    "num=rows\n",
    "for i in range(1, rows+1):\n",
    "    j=rows\n",
    "    while(j+1>i):\n",
    "        print(num, end=' ')\n",
    "        j=j-1\n",
    "    print('')\n",
    "    "
   ]
  },
  {
   "cell_type": "code",
   "execution_count": 24,
   "metadata": {},
   "outputs": [
    {
     "name": "stdout",
     "output_type": "stream",
     "text": [
      "enter number of rows: 5\n",
      "0 1 2 3 4 5 \n",
      "0 1 2 3 4 \n",
      "0 1 2 3 \n",
      "0 1 2 \n",
      "0 1 \n",
      "0 \n"
     ]
    }
   ],
   "source": [
    "#Inverted Pyramid pattern with the same digit\n",
    "rows = int(input(\"enter number of rows: \"))\n",
    "for i in range(rows+1,0,-1):\n",
    "    j=0\n",
    "    while(j<i):\n",
    "        print(j, end=' ')\n",
    "        j=j+1\n",
    "    print('')\n",
    "    "
   ]
  },
  {
   "cell_type": "code",
   "execution_count": 25,
   "metadata": {},
   "outputs": [
    {
     "name": "stdout",
     "output_type": "stream",
     "text": [
      "1 \n",
      "3 3 \n",
      "5 5 5 \n",
      "7 7 7 7 \n",
      "9 9 9 9 9 \n"
     ]
    }
   ],
   "source": [
    "#Alternate numbers pattern using while loop\n",
    "i=1\n",
    "while(i <= 5):\n",
    "    j=1\n",
    "    while(j <= i):\n",
    "        print((i*2-1),end=\" \")\n",
    "        j=j+1\n",
    "    i=i+1\n",
    "    print('')\n",
    "    "
   ]
  },
  {
   "cell_type": "code",
   "execution_count": 32,
   "metadata": {},
   "outputs": [
    {
     "name": "stdout",
     "output_type": "stream",
     "text": [
      "enter number of rows: 5\n",
      "5 5 5 5 5 \n",
      "4 4 4 4 \n",
      "3 3 3 \n",
      "2 2 \n",
      "1 \n"
     ]
    }
   ],
   "source": [
    "#Reverse number pattern\n",
    "rows = int(input(\"enter number of rows: \"))\n",
    "for i in range(rows,0,-1):\n",
    "    j=0\n",
    "    while(j<i):\n",
    "        print(i, end=\" \")\n",
    "        j=j+1\n",
    "    print('')\n",
    "    \n",
    "    "
   ]
  },
  {
   "cell_type": "code",
   "execution_count": 34,
   "metadata": {},
   "outputs": [
    {
     "name": "stdout",
     "output_type": "stream",
     "text": [
      "enter number of rows: 5\n",
      "1  \n",
      "2 1  \n",
      "3 2 1  \n",
      "4 3 2 1  \n",
      "5 4 3 2 1  \n"
     ]
    }
   ],
   "source": [
    "#Reverse Pyramid of Numbers\n",
    "rows = int(input(\"enter number of rows: \"))\n",
    "for i in range(1,rows+1):\n",
    "    for j in range(i,0,-1):\n",
    "        print(j, end=' ')\n",
    "    print(\" \")\n",
    "        \n",
    "        \n",
    "        \n",
    "        \n"
   ]
  },
  {
   "cell_type": "raw",
   "metadata": {},
   "source": [
    "Another reverse number pattern\n",
    "5 4 3 2 1 \n",
    "4 3 2 1 \n",
    "3 2 1 \n",
    "2 1 \n",
    "1"
   ]
  },
  {
   "cell_type": "code",
   "execution_count": 35,
   "metadata": {},
   "outputs": [
    {
     "name": "stdout",
     "output_type": "stream",
     "text": [
      "enter number of rows: 5\n",
      "5 4 3 2 1  \n",
      "4 3 2 1  \n",
      "3 2 1  \n",
      "2 1  \n",
      "1  \n"
     ]
    }
   ],
   "source": [
    "#Reverse Pyramid of Numbers\n",
    "rows = int(input(\"enter number of rows: \"))\n",
    "for i in range(rows,0,-1):\n",
    "    for j in range(i,0,-1):\n",
    "        print(j, end=' ')\n",
    "    print(\" \")"
   ]
  },
  {
   "cell_type": "raw",
   "metadata": {},
   "source": [
    "Print reverse number from 10 to 1\n",
    "1\n",
    "3 2\n",
    "6 5 4\n",
    "10 9 8 7"
   ]
  },
  {
   "cell_type": "code",
   "execution_count": 54,
   "metadata": {},
   "outputs": [
    {
     "name": "stdout",
     "output_type": "stream",
     "text": [
      "1 \n",
      "3 2 \n",
      "6 5 4 \n",
      "10 9 8 7 \n"
     ]
    }
   ],
   "source": [
    "start = 1\n",
    "stop = 2\n",
    "current_num = stop\n",
    "for row in range(2,6):\n",
    "    for col in range(start, stop):\n",
    "        current_num -= 1\n",
    "        print(current_num, end=' ')\n",
    "    print(\"\")\n",
    "    start = stop\n",
    "    stop += row\n",
    "    current_num = stop\n",
    "    #print('start ' + str(start) + ' stop ' + str(stop) + ' current_num ' + str(current_num))"
   ]
  },
  {
   "cell_type": "raw",
   "metadata": {},
   "source": [
    "Number triangle pattern\n",
    "          1 \n",
    "        1 2 \n",
    "      1 2 3 \n",
    "    1 2 3 4 \n",
    "  1 2 3 4 5 "
   ]
  },
  {
   "cell_type": "code",
   "execution_count": 58,
   "metadata": {},
   "outputs": [
    {
     "name": "stdout",
     "output_type": "stream",
     "text": [
      "enter number of rows: 5\n",
      "           \n",
      "        1  \n",
      "      1 2  \n",
      "    1 2 3  \n",
      "  1 2 3 4  \n",
      "1 2 3 4 5  \n"
     ]
    }
   ],
   "source": [
    "rows = int(input(\"enter number of rows: \"))\n",
    "for i in range(rows+1):\n",
    "    num=1\n",
    "    for j in range(rows,0,-1):\n",
    "        if j > i:\n",
    "            print(' ', end=' ')\n",
    "        else:\n",
    "            print(num, end=' ')\n",
    "            num=num+1\n",
    "    print(' ')"
   ]
  },
  {
   "cell_type": "raw",
   "metadata": {},
   "source": [
    "Multiplication table pattern\n",
    "Pattern: –\n",
    "1  \n",
    "2  4  \n",
    "3  6  9  \n",
    "4  8  12  16  \n",
    "5  10  15  20  25  \n",
    "6  12  18  24  30  36  \n",
    "7  14  21  28  35  42  49  \n",
    "8  16  24  32  40  48  56  64  "
   ]
  },
  {
   "cell_type": "code",
   "execution_count": 61,
   "metadata": {},
   "outputs": [
    {
     "name": "stdout",
     "output_type": "stream",
     "text": [
      "enter number of rows: 6\n",
      " \n",
      "1  \n",
      "2 4  \n",
      "3 6 9  \n",
      "4 8 12 16  \n",
      "5 10 15 20 25  \n",
      "6 12 18 24 30 36  \n"
     ]
    }
   ],
   "source": [
    "rows = int(input(\"enter number of rows: \"))\n",
    "for i in range(rows+1):\n",
    "    for j in range(1,i+1):\n",
    "        print(i*j, end=' ')\n",
    "    print(' ')"
   ]
  },
  {
   "cell_type": "raw",
   "metadata": {},
   "source": [
    "Square pattern with numbers\n",
    "1 2 3 4 5 \n",
    "2 2 3 4 5 \n",
    "3 3 3 4 5 \n",
    "4 4 4 4 5 \n",
    "5 5 5 5 5"
   ]
  },
  {
   "cell_type": "code",
   "execution_count": 67,
   "metadata": {},
   "outputs": [
    {
     "name": "stdout",
     "output_type": "stream",
     "text": [
      "enter number of rows: 5\n",
      "1 2 3 4 5  \n",
      "2 2 3 4 5  \n",
      "3 3 3 4 5  \n",
      "4 4 4 4 5  \n",
      "5 5 5 5 5  \n"
     ]
    }
   ],
   "source": [
    "rows = int(input(\"enter number of rows: \"))\n",
    "for i in range(1,rows+1):\n",
    "    for j in range(1,rows+1):\n",
    "        if i<=j:\n",
    "            print(j, end=' ')\n",
    "        else:\n",
    "            print(i, end=' ')\n",
    "    print(' ')"
   ]
  },
  {
   "cell_type": "raw",
   "metadata": {},
   "source": [
    "Pattern: –\n",
    " \n",
    "        * \n",
    "      * * \n",
    "    * * * \n",
    "  * * * * \n",
    "* * * * * "
   ]
  },
  {
   "cell_type": "raw",
   "metadata": {},
   "source": [
    "rows = int(input(\"enter number of rows: \"))\n",
    "for i in range(rows+1):\n",
    "    for j in range(rows,0,-1):\n",
    "        if(j>i):\n",
    "            print(\" \", end=' ')\n",
    "        else:\n",
    "            print('*', end=' ')\n",
    "    print(' ')\n",
    "        "
   ]
  },
  {
   "cell_type": "code",
   "execution_count": null,
   "metadata": {},
   "outputs": [],
   "source": [
    "        * * * * * * \n",
    "         * * * * * \n",
    "          * * * * \n",
    "           * * * \n",
    "            * * \n",
    "             * "
   ]
  },
  {
   "cell_type": "code",
   "execution_count": 69,
   "metadata": {},
   "outputs": [
    {
     "name": "stdout",
     "output_type": "stream",
     "text": [
      "        * * * * * * \n",
      "         * * * * * \n",
      "          * * * * \n",
      "           * * * \n",
      "            * * \n",
      "             * \n"
     ]
    }
   ],
   "source": [
    "rows = 5\n",
    "k = 2 * rows - 2\n",
    "for i in range(rows, -1, -1):\n",
    "    for j in range(k, 0, -1):\n",
    "        print(end=\" \")\n",
    "    k = k + 1\n",
    "    for j in range(0, i + 1):\n",
    "        print(\"*\", end=\" \")\n",
    "    print(\"\")"
   ]
  },
  {
   "cell_type": "code",
   "execution_count": 70,
   "metadata": {},
   "outputs": [
    {
     "name": "stdout",
     "output_type": "stream",
     "text": [
      "**************\n",
      "******__******\n",
      "*****____*****\n",
      "****______****\n",
      "***________***\n",
      "**__________**\n",
      "*____________*\n"
     ]
    }
   ],
   "source": [
    "rows = 14\n",
    "print(\"*\" * rows, end=\"\\n\")\n",
    "i = (rows // 2) - 1\n",
    "j = 2\n",
    "while i != 0:\n",
    "    while j <= (rows - 2):\n",
    "        print(\"*\" * i, end=\"\")\n",
    "        print(\"_\" * j, end=\"\")\n",
    "        print(\"*\" * i, end=\"\\n\")\n",
    "        i = i - 1\n",
    "        j = j + 2"
   ]
  },
  {
   "cell_type": "code",
   "execution_count": 71,
   "metadata": {},
   "outputs": [
    {
     "name": "stdout",
     "output_type": "stream",
     "text": [
      "* * * * * \n",
      " * * * * \n",
      "  * * * \n",
      "   * * \n",
      "    * \n"
     ]
    }
   ],
   "source": [
    "rows = 5\n",
    "i = 0\n",
    "while i <= rows - 1:\n",
    "    j = 0\n",
    "    while j < i:\n",
    "        # display space\n",
    "        print('', end=' ')\n",
    "        j += 1\n",
    "    k = i\n",
    "    while k <= rows - 1:\n",
    "        print('*', end=' ')\n",
    "        k += 1\n",
    "    print()\n",
    "    i += 1"
   ]
  },
  {
   "cell_type": "code",
   "execution_count": 73,
   "metadata": {},
   "outputs": [
    {
     "name": "stdout",
     "output_type": "stream",
     "text": [
      "Enter number of rows: 5\n",
      "        * \n",
      "      * * * \n",
      "    * * * * * \n",
      "  * * * * * * * \n",
      "* * * * * * * * * \n"
     ]
    }
   ],
   "source": [
    "rows = int(input(\"Enter number of rows: \"))\n",
    "\n",
    "k = 0\n",
    "\n",
    "for i in range(1, rows+1):\n",
    "    for space in range(1, (rows-i)+1):\n",
    "        print(end=\"  \")\n",
    "   \n",
    "    while k!=(2*i-1):\n",
    "        print(\"* \", end=\"\")\n",
    "        k += 1\n",
    "   \n",
    "    k = 0\n",
    "    print()"
   ]
  },
  {
   "cell_type": "code",
   "execution_count": 74,
   "metadata": {},
   "outputs": [
    {
     "name": "stdout",
     "output_type": "stream",
     "text": [
      "10 20 30\n"
     ]
    }
   ],
   "source": [
    "p, q, r = 10, 20 ,30\n",
    "print(p, q, r)"
   ]
  },
  {
   "cell_type": "code",
   "execution_count": 77,
   "metadata": {},
   "outputs": [
    {
     "ename": "TypeError",
     "evalue": "append() takes exactly one argument (2 given)",
     "output_type": "error",
     "traceback": [
      "\u001b[1;31m---------------------------------------------------------------------------\u001b[0m",
      "\u001b[1;31mTypeError\u001b[0m                                 Traceback (most recent call last)",
      "\u001b[1;32m<ipython-input-77-6e784efd483a>\u001b[0m in \u001b[0;36m<module>\u001b[1;34m\u001b[0m\n\u001b[0;32m      1\u001b[0m \u001b[0msampleList\u001b[0m \u001b[1;33m=\u001b[0m \u001b[1;33m[\u001b[0m\u001b[1;34m\"Jon\"\u001b[0m\u001b[1;33m,\u001b[0m \u001b[1;34m\"Kelly\"\u001b[0m\u001b[1;33m,\u001b[0m \u001b[1;34m\"Jessa\"\u001b[0m\u001b[1;33m]\u001b[0m\u001b[1;33m\u001b[0m\u001b[1;33m\u001b[0m\u001b[0m\n\u001b[1;32m----> 2\u001b[1;33m \u001b[0msampleList\u001b[0m\u001b[1;33m.\u001b[0m\u001b[0mappend\u001b[0m\u001b[1;33m(\u001b[0m\u001b[1;36m2\u001b[0m\u001b[1;33m,\u001b[0m \u001b[1;34m\"Scott\"\u001b[0m\u001b[1;33m)\u001b[0m\u001b[1;33m\u001b[0m\u001b[1;33m\u001b[0m\u001b[0m\n\u001b[0m\u001b[0;32m      3\u001b[0m \u001b[0mprint\u001b[0m\u001b[1;33m(\u001b[0m\u001b[0msampleList\u001b[0m\u001b[1;33m)\u001b[0m\u001b[1;33m\u001b[0m\u001b[1;33m\u001b[0m\u001b[0m\n",
      "\u001b[1;31mTypeError\u001b[0m: append() takes exactly one argument (2 given)"
     ]
    }
   ],
   "source": [
    "sampleList = [\"Jon\", \"Kelly\", \"Jessa\"]\n",
    "sampleList.append(2, \"Scott\")\n",
    "print(sampleList)"
   ]
  },
  {
   "cell_type": "code",
   "execution_count": 81,
   "metadata": {},
   "outputs": [
    {
     "name": "stdout",
     "output_type": "stream",
     "text": [
      "24\n"
     ]
    }
   ],
   "source": [
    "def calculate (num1=6, num2=4):\n",
    "  res = num1 * num2\n",
    "  print(res)\n",
    "\n",
    "calculate()"
   ]
  },
  {
   "cell_type": "code",
   "execution_count": 82,
   "metadata": {},
   "outputs": [
    {
     "name": "stdout",
     "output_type": "stream",
     "text": [
      "Salary: 12000\n",
      "Salary: 8000\n"
     ]
    }
   ],
   "source": [
    "salary = 8000\n",
    "\n",
    "def printSalary():\n",
    "  salary = 12000\n",
    "  print(\"Salary:\", salary)\n",
    "  \n",
    "printSalary()\n",
    "print(\"Salary:\", salary)"
   ]
  },
  {
   "cell_type": "code",
   "execution_count": 86,
   "metadata": {},
   "outputs": [
    {
     "name": "stdout",
     "output_type": "stream",
     "text": [
      "mes Bon\n"
     ]
    }
   ],
   "source": [
    "var= \"James Bond\"\n",
    "print(var[2:-1])"
   ]
  },
  {
   "cell_type": "code",
   "execution_count": 85,
   "metadata": {},
   "outputs": [
    {
     "name": "stdout",
     "output_type": "stream",
     "text": [
      "True\n",
      "False\n"
     ]
    }
   ],
   "source": [
    "listOne = [20, 40, 60, 80]\n",
    "listTwo = [20, 40, 60, 80]\n",
    "\n",
    "print(listOne == listTwo)\n",
    "print(listOne is listTwo)"
   ]
  },
  {
   "cell_type": "code",
   "execution_count": 87,
   "metadata": {},
   "outputs": [],
   "source": [
    "var1 = 5\n",
    "def some_func():\n",
    " \n",
    "    # var2 is in the local namespace\n",
    "    var2 = 6\n",
    "    def some_inner_func():\n",
    " \n",
    "        # var3 is in the nested local\n",
    "        # namespace\n",
    "        var3 = 7"
   ]
  },
  {
   "cell_type": "code",
   "execution_count": null,
   "metadata": {},
   "outputs": [],
   "source": []
  }
 ],
 "metadata": {
  "kernelspec": {
   "display_name": "Python 3",
   "language": "python",
   "name": "python3"
  },
  "language_info": {
   "codemirror_mode": {
    "name": "ipython",
    "version": 3
   },
   "file_extension": ".py",
   "mimetype": "text/x-python",
   "name": "python",
   "nbconvert_exporter": "python",
   "pygments_lexer": "ipython3",
   "version": "3.8.5"
  }
 },
 "nbformat": 4,
 "nbformat_minor": 4
}
