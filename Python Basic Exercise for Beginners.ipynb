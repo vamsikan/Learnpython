{
 "cells": [
  {
   "cell_type": "code",
   "execution_count": 4,
   "metadata": {},
   "outputs": [
    {
     "name": "stdout",
     "output_type": "stream",
     "text": [
      "enter first number: 10\n",
      "enter second number: 5\n",
      "result 50\n"
     ]
    }
   ],
   "source": [
    "num1 = int(input(\"enter first number: ))\n",
    "num2 = int(input(\"enter second number: ))\n",
    "def func(num1,num2):\n",
    "    product = num1*num2\n",
    "    if product <=1000:\n",
    "        return product\n",
    "    else:\n",
    "        return num1 + num2\n",
    "result=func(num1,num2)\n",
    "print(\"result\", result)\n",
    "        "
   ]
  },
  {
   "cell_type": "code",
   "execution_count": 5,
   "metadata": {},
   "outputs": [
    {
     "name": "stdout",
     "output_type": "stream",
     "text": [
      " current number  1  previous number  0 sum  1\n",
      " current number  2  previous number  1 sum  3\n",
      " current number  3  previous number  2 sum  5\n",
      " current number  4  previous number  3 sum  7\n",
      " current number  5  previous number  4 sum  9\n",
      " current number  6  previous number  5 sum  11\n",
      " current number  7  previous number  6 sum  13\n",
      " current number  8  previous number  7 sum  15\n",
      " current number  9  previous number  8 sum  17\n",
      " current number  10  previous number  9 sum  19\n"
     ]
    }
   ],
   "source": [
    "prev_num = 0\n",
    "for i in range(1,11):\n",
    "    sum = prev_num + i\n",
    "    print(' current number ', i, \" previous number \", prev_num, \"sum \", sum)\n",
    "    prev_num=i"
   ]
  },
  {
   "cell_type": "raw",
   "metadata": {},
   "source": [
    "Print characters from a string that are present at an even index number\n",
    "pynative\n",
    "p n t v"
   ]
  },
  {
   "cell_type": "code",
   "execution_count": 12,
   "metadata": {},
   "outputs": [
    {
     "name": "stdout",
     "output_type": "stream",
     "text": [
      "Enter word word\n",
      "Original String: word\n",
      "['w', 'o', 'r', 'd']\n",
      "w\n",
      "r\n"
     ]
    }
   ],
   "source": [
    "word = input('Enter word ')\n",
    "print(\"Original String:\", word\n",
    "# get the length of a string\n",
    "x= list(word)\n",
    "print(x)\n",
    "for i in x[0::2]:\n",
    "    print(i)"
   ]
  },
  {
   "cell_type": "code",
   "execution_count": 17,
   "metadata": {},
   "outputs": [
    {
     "name": "stdout",
     "output_type": "stream",
     "text": [
      "String slicing\n",
      "AST\n",
      "SR\n",
      "GIT\n"
     ]
    }
   ],
   "source": [
    "# Python program to demonstrate\n",
    "# string slicing\n",
    " \n",
    "# String slicing\n",
    "String = 'ASTRING'\n",
    " \n",
    "# Using slice constructor\n",
    "s1 = slice(3)\n",
    "s2 = slice(1, 5, 2)\n",
    "s3 = slice(-1, -7, -2)\n",
    " \n",
    "print(\"String slicing\")\n",
    "print(String[s1])\n",
    "print(String[s2])\n",
    "print(String[s3])"
   ]
  },
  {
   "cell_type": "code",
   "execution_count": 24,
   "metadata": {},
   "outputs": [
    {
     "name": "stdout",
     "output_type": "stream",
     "text": [
      "ES\n"
     ]
    }
   ],
   "source": [
    "# Python program to demonstrate\n",
    "# string slicing\n",
    " \n",
    "# String slicing\n",
    "String = 'GEEKSFORGEEKS'\n",
    " \n",
    "# Prints string in reverse\n",
    "print(String[1:6:3])"
   ]
  },
  {
   "cell_type": "code",
   "execution_count": 5,
   "metadata": {},
   "outputs": [
    {
     "name": "stdout",
     "output_type": "stream",
     "text": [
      "[25, 35]\n",
      "[25, 35, 40, 60, 90]\n"
     ]
    }
   ],
   "source": [
    "list1 = [10, 20, 25, 30, 35]\n",
    "list2 = [40, 45, 60, 75, 90]\n",
    "list3=[]\n",
    "\n",
    "for i in list1:\n",
    "    if i % 2 !=0:\n",
    "        list3.append(i)\n",
    "print(list3)\n",
    "for j in list2:\n",
    "    if j%2 ==0:\n",
    "        list3.append(j)\n",
    "print(list3)"
   ]
  },
  {
   "cell_type": "code",
   "execution_count": 6,
   "metadata": {},
   "outputs": [
    {
     "name": "stdout",
     "output_type": "stream",
     "text": [
      "2\n",
      "3\n",
      "5\n",
      "6\n",
      "7\n"
     ]
    }
   ],
   "source": [
    "numbers = [2, 3, 5, 6, 7]\n",
    "for num in numbers:\n",
    "    print(num)"
   ]
  },
  {
   "cell_type": "code",
   "execution_count": 7,
   "metadata": {},
   "outputs": [
    {
     "name": "stdout",
     "output_type": "stream",
     "text": [
      "1\n",
      "2\n",
      "3\n",
      "6\n",
      "7\n"
     ]
    }
   ],
   "source": [
    "numbers = [1, 2, 3, 6, 7]\n",
    "size = len(numbers)\n",
    "for i in range(size):\n",
    "    print(numbers[i])"
   ]
  },
  {
   "cell_type": "raw",
   "metadata": {},
   "source": [
    "Check Palindrome Number"
   ]
  },
  {
   "cell_type": "code",
   "execution_count": null,
   "metadata": {},
   "outputs": [],
   "source": [
    "num = int(input(\"enter original number: \"))\n",
    "new_num=0\n",
    "for \n",
    "\n"
   ]
  }
 ],
 "metadata": {
  "kernelspec": {
   "display_name": "Python 3",
   "language": "python",
   "name": "python3"
  },
  "language_info": {
   "codemirror_mode": {
    "name": "ipython",
    "version": 3
   },
   "file_extension": ".py",
   "mimetype": "text/x-python",
   "name": "python",
   "nbconvert_exporter": "python",
   "pygments_lexer": "ipython3",
   "version": "3.8.5"
  }
 },
 "nbformat": 4,
 "nbformat_minor": 4
}
